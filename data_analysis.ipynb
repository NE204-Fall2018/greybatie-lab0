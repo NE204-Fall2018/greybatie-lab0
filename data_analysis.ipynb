{
 "cells": [
  {
   "cell_type": "code",
   "execution_count": 1,
   "metadata": {
    "scrolled": false
   },
   "outputs": [
    {
     "ename": "NameError",
     "evalue": "name 'energies' is not defined",
     "output_type": "error",
     "traceback": [
      "\u001b[0;31m---------------------------------------------------------------------------\u001b[0m",
      "\u001b[0;31mNameError\u001b[0m                                 Traceback (most recent call last)",
      "\u001b[0;32m<ipython-input-1-f81829b1f5f0>\u001b[0m in \u001b[0;36m<module>\u001b[0;34m()\u001b[0m\n\u001b[1;32m     40\u001b[0m \u001b[0;34m\u001b[0m\u001b[0m\n\u001b[1;32m     41\u001b[0m \u001b[0mplt\u001b[0m\u001b[0;34m.\u001b[0m\u001b[0mxlim\u001b[0m\u001b[0;34m(\u001b[0m\u001b[0;34m[\u001b[0m\u001b[0;36m0\u001b[0m\u001b[0;34m,\u001b[0m\u001b[0;36m500\u001b[0m\u001b[0;34m]\u001b[0m\u001b[0;34m)\u001b[0m\u001b[0;34m\u001b[0m\u001b[0m\n\u001b[0;32m---> 42\u001b[0;31m \u001b[0mplt\u001b[0m\u001b[0;34m.\u001b[0m\u001b[0msemilogy\u001b[0m\u001b[0;34m(\u001b[0m\u001b[0menergies\u001b[0m\u001b[0;34m,\u001b[0m \u001b[0mBa133\u001b[0m\u001b[0;34m)\u001b[0m\u001b[0;34m\u001b[0m\u001b[0m\n\u001b[0m\u001b[1;32m     43\u001b[0m \u001b[0;34m\u001b[0m\u001b[0m\n\u001b[1;32m     44\u001b[0m \u001b[0;31m#intensity of 80.99 (32.9%) and 79.61 (2.6%)\u001b[0m\u001b[0;34m\u001b[0m\u001b[0;34m\u001b[0m\u001b[0m\n",
      "\u001b[0;31mNameError\u001b[0m: name 'energies' is not defined"
     ]
    }
   ],
   "source": [
    "## DATA PARSER ## (using already downloaded data :\\\n",
    "\n",
    "import matplotlib.pyplot as plt\n",
    "import numpy as np\n",
    "import math\n",
    "\n",
    "f=open( 'lab0_spectral_data.txt', \"r\")\n",
    "lines=f.readlines()[1:]\n",
    "\n",
    "\n",
    "Am241=[] # 59.54 keV\n",
    "Ba133=[] # 80.997 keV (34%) 302.853 keV (18%) 356.017 keV (62%)\n",
    "Cs137=[] # 661.66 keV\n",
    "Co60=[] # 1173.2 keV and 1332.51 keV\n",
    "Eu152=[] # 344.28 keV (27%) 1112.1 keV (14%) 1408.1 keV (21%) 121.78 keV (26%)\n",
    "\n",
    "\n",
    "\n",
    "for x in lines:\n",
    "    x.split('\\t')\n",
    "    y=[int(s) for s in x.split() if s.isdigit()]\n",
    "    Am241.append(y[0])\n",
    "    Ba133.append(y[1])\n",
    "    Cs137.append(y[2])\n",
    "    Co60.append(y[3])\n",
    "    Eu152.append(y[4])\n",
    "# testing that input vectors have the same length\n",
    "f.close()\n",
    "\n",
    "\n",
    "len(Cs137)==len(Am241)==len(Cs137)==len(Co60)==len(Eu152)==8192\n",
    "chan=list(range(1,len(Cs137)+1)) #number of channels:8192\n",
    "#sources=[ for i in chan Am241[i]+Ba133[i]+Cs137[i]+Co60[i]+Eu152[i]]\n",
    "\n",
    "\n",
    "#plt.semilogy(chan,Cs137)\n",
    "\n",
    "#plt.semilogy(chan, Am241,chan, Ba133,chan, Cs137, chan,Co60, chan, Eu152)\n",
    "#plt.show()\n",
    "\n",
    "plt.xlim([0,500])\n",
    "plt.semilogy(energies, Ba133)\n",
    "\n",
    "#intensity of 80.99 (32.9%) and 79.61 (2.6%)\n",
    "Ba_a=[80.9979,276.3989,302.8508, 356.0129,383.8485]\n",
    "Ba_e=[]\n",
    "percent_diff=[]\n",
    "table=[]\n",
    "dE=10\n",
    "\n",
    "def find_nearest(array,value):\n",
    "    diff=np.abs(np.array(array)-value)\n",
    "    sort_diff=sorted(diff)\n",
    "    diff=diff.tolist()\n",
    "    index=diff.index(sort_diff[0])\n",
    "    return index, array[index]\n",
    "\n",
    "for x in range(0,5):\n",
    "    minE=Ba_a[int(x)]-dE\n",
    "    maxE=Ba_a[int(x)]+dE\n",
    "    \n",
    "    nearestmin=find_nearest(energies,minE)\n",
    "    nearestmax=find_nearest(energies,maxE)\n",
    "    \n",
    "    Erange=energies[nearestmin[0]:nearestmax[0]]\n",
    "    Countrange=Ba133[nearestmin[0]:nearestmax[0]]\n",
    "    #print(Erange, Countrange)\n",
    "    maxcounts=max(Countrange)\n",
    "    ECentroid=Erange[Countrange.index(maxcounts)]\n",
    "    Ba_e.append(ECentroid)\n",
    "    percent_diff.append(100*(Ba_e[x]-Ba_a[x])/Ba_a[x])\n",
    "    table.append([Ba_a[x], Ba_e[x], percent_diff[x]])\n",
    "\n",
    "\n",
    "np.savetxt('/Users/margobatie/repos/NE204_lab0/images/peakdiffquant.csv', table)\n",
    "\n",
    "len(chan)\n",
    "\n",
    "\n",
    "check=(math.log2(len(chan)))\n",
    "check.is_integer()"
   ]
  },
  {
   "cell_type": "code",
   "execution_count": 30,
   "metadata": {},
   "outputs": [
    {
     "name": "stdout",
     "output_type": "stream",
     "text": [
      "0.28057600186393294 1.1810916123019481\n"
     ]
    },
    {
     "data": {
      "image/png": "[encoded data removed]",
      "text/plain": [
       "<matplotlib.figure.Figure at 0x1082781d0>"
      ]
     },
     "metadata": {},
     "output_type": "display_data"
    }
   ],
   "source": [
    "## Energy Calibration ##\n",
    "\n",
    "import numpy as np\n",
    "import matplotlib.pyplot as plt\n",
    "from scipy.optimize import curve_fit\n",
    "\n",
    "\n",
    "def gaus(x,a,b,c):\n",
    "  return a*np.exp( -(x-b)**2/(2*c**2))\n",
    "\n",
    "#plt.semilogy(chan, Cs137)\n",
    "#plt.show()\n",
    "\n",
    "small=15 # 20 chan width of Cs 137, 10 chan width of Am 241\n",
    "\n",
    "\n",
    "centroid_Cs=np.argmax(Cs137) # 661.66 keV\n",
    "centroid_Am=np.argmax(Am241) # 59.54 keV\n",
    "\n",
    "x1=centroid_Am\n",
    "x2=centroid_Cs\n",
    "\n",
    "y1=59.5409\n",
    "y2=661.657 \n",
    "\n",
    "energies=[]\n",
    "m=float(y2-y1)/(x2-x1)\n",
    "b=float(-m*x1+y1)\n",
    "print(m,b)\n",
    "\n",
    "chan_array=np.array(chan)\n",
    "\n",
    "for i in chan:\n",
    "    energies.append(np.multiply(m, chan_array[i-1])+b)\n",
    "                                      \n",
    "\n",
    "plt.semilogy(energies, Co60)\n",
    "plt.show()\n",
    "\n"
   ]
  },
  {
   "cell_type": "code",
   "execution_count": null,
   "metadata": {},
   "outputs": [],
   "source": []
  },
  {
   "cell_type": "code",
   "execution_count": null,
   "metadata": {
    "collapsed": true
   },
   "outputs": [],
   "source": []
  }
 ],
 "metadata": {
  "kernelspec": {
   "display_name": "Python 3",
   "language": "python",
   "name": "python3"
  },
  "language_info": {
   "codemirror_mode": {
    "name": "ipython",
    "version": 3
   },
   "file_extension": ".py",
   "mimetype": "text/x-python",
   "name": "python",
   "nbconvert_exporter": "python",
   "pygments_lexer": "ipython3",
   "version": "3.6.2"
  }
 },
 "nbformat": 4,
 "nbformat_minor": 2
}
